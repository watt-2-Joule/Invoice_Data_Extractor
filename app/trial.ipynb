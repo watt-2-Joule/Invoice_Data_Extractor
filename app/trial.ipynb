{
 "cells": [
  {
   "cell_type": "code",
   "execution_count": 2,
   "id": "652a5fd0",
   "metadata": {},
   "outputs": [],
   "source": [
    "import logging\n",
    "from typing import List\n",
    "from pdf2image import convert_from_path, convert_from_bytes\n",
    "import pytesseract\n",
    "from pydantic import BaseModel\n",
    "from models.invoice_schema import PageTextData, ElaboratedPageTextData\n",
    "import os\n",
    "import logging \n",
    "logger = logging.getLogger(__name__)"
   ]
  },
  {
   "cell_type": "code",
   "execution_count": 3,
   "id": "6107fc6f",
   "metadata": {},
   "outputs": [
    {
     "name": "stdout",
     "output_type": "stream",
     "text": [
      "Total pages converted: 4\n"
     ]
    }
   ],
   "source": [
    "from pathlib import Path\n",
    "from pdf2image import convert_from_path\n",
    "\n",
    "# Correct full path to the file\n",
    "file_path = Path(\"d:/AI_Inovice/app/invoice_3_five_pages_different_layout.pdf\")\n",
    "\n",
    "# Check if file exists\n",
    "if not file_path.exists():\n",
    "    raise FileNotFoundError(f\"File not found: {file_path}\")\n",
    "\n",
    "# Now convert\n",
    "\n",
    "images = convert_from_path(str(file_path), dpi=300)\n",
    "print(f\"Total pages converted: {len(images)}\")"
   ]
  },
  {
   "cell_type": "code",
   "execution_count": 4,
   "id": "f069eba5",
   "metadata": {},
   "outputs": [],
   "source": [
    "filename = 'Invoice_8'\n",
    "pages = []\n",
    "for page_number, image in enumerate(images, start=1):\n",
    "    logger.info(f\"Running OCR on page {page_number}...\")\n",
    "    text = pytesseract.image_to_string(image)\n",
    "    pages.append(PageTextData(page_number=page_number,filename = filename, text=text))"
   ]
  },
  {
   "cell_type": "code",
   "execution_count": 5,
   "id": "6f47a9bd",
   "metadata": {},
   "outputs": [
    {
     "data": {
      "text/plain": [
       "[PageTextData(page_number=1, filename='Invoice_8', text='DEF Tech Solutions\\n\\nInvoice #: INV-005\\nClient: XYZ Corporation\\nDate: 2025-07-20\\n\\nItem Qty Unit Price Total\\n\\nProduct 0 3 $15.50 $46.50\\nProduct 1 3 $16.50 $49.50\\nProduct 2 3 $17.50 $52.50\\nProduct 3 3 $18.50 $55.50\\nProduct 4 3 $19.50 $58.50\\nProduct 5 3 $20.50 $61.50\\nProduct 6 3 $21.50 $64.50\\nProduct 7 3 $22.50 $67.50\\nProduct 8 3 $23.50 $70.50\\nProduct 9 3 $24.50 $73.50\\nProduct 10 3 $15.50 $46.50\\nProduct 11 3 $16.50 $49.50\\nProduct 12 3 $17.50 $52.50\\nProduct 13 3 $18.50 $55.50\\nProduct 14 3 $19.50 $58.50\\nProduct 15 3 $20.50 $61.50\\nProduct 16 3 $21.50 $64.50\\nProduct 17 3 $22.50 $67.50\\nProduct 18 3 $23.50 $70.50\\nProduct 19 3 $24.50 $73.50\\nProduct 20 3 $15.50 $46.50\\nProduct 21 3 $16.50 $49.50\\nProduct 22 3 $17.50 $52.50\\nProduct 23 3 $18.50 $55.50\\nProduct 24 3 $19.50 $58.50\\nProduct 25 3 $20.50 $61.50\\nProduct 26 3 $21.50 $64.50\\nProduct 27 3 $22.50 $67.50\\nProduct 28 3 $23.50 $70.50\\nProduct 29 3 $24.50 $73.50\\n'),\n",
       " PageTextData(page_number=2, filename='Invoice_8', text='Product 30\\nProduct 31\\nProduct 32\\nProduct 33\\nProduct 34\\nProduct 35\\nProduct 36\\nProduct 37\\nProduct 38\\nProduct 39\\nProduct 40\\nProduct 41\\nProduct 42\\nProduct 43\\nProduct 44\\nProduct 45\\nProduct 46\\nProduct 47\\nProduct 48\\nProduct 49\\nProduct 50\\nProduct 51\\nProduct 52\\nProduct 53\\nProduct 54\\nProduct 55\\nProduct 56\\nProduct 57\\nProduct 58\\nProduct 59\\nProduct 60\\nProduct 61\\nProduct 62\\n\\nOW wWowwwnwwwnwwnwwowwWdwwnwnwowwWdwWwwownwwnwn www wow wo wo Ww\\n\\n$15.50\\n$16.50\\n$17.50\\n$18.50\\n$19.50\\n$20.50\\n$21.50\\n$22.50\\n$23.50\\n$24.50\\n$15.50\\n$16.50\\n$17.50\\n$18.50\\n$19.50\\n$20.50\\n$21.50\\n$22.50\\n$23.50\\n$24.50\\n$15.50\\n$16.50\\n$17.50\\n$18.50\\n$19.50\\n$20.50\\n$21.50\\n$22.50\\n$23.50\\n$24.50\\n$15.50\\n$16.50\\n$17.50\\n\\n$46.50\\n$49.50\\n$52.50\\n$55.50\\n$58.50\\n$61.50\\n$64.50\\n$67.50\\n$70.50\\n$73.50\\n$46.50\\n$49.50\\n$52.50\\n$55.50\\n$58.50\\n$61.50\\n$64.50\\n$67.50\\n$70.50\\n$73.50\\n$46.50\\n$49.50\\n$52.50\\n$55.50\\n$58.50\\n$61.50\\n$64.50\\n$67.50\\n$70.50\\n$73.50\\n$46.50\\n$49.50\\n$52.50\\n'),\n",
       " PageTextData(page_number=3, filename='Invoice_8', text='Product 63\\nProduct 64\\nProduct 65\\nProduct 66\\nProduct 67\\nProduct 68\\nProduct 69\\nProduct 70\\nProduct 71\\nProduct 72\\nProduct 73\\nProduct 74\\nProduct 75\\nProduct 76\\nProduct 77\\nProduct 78\\nProduct 79\\nProduct 80\\nProduct 81\\nProduct 82\\nProduct 83\\nProduct 84\\nProduct 85\\nProduct 86\\nProduct 87\\nProduct 88\\nProduct 89\\nProduct 90\\nProduct 91\\nProduct 92\\nProduct 93\\nProduct 94\\nProduct 95\\n\\nOW wWowwwnwwwnwwnwwowwWdwwnwnwowwWdwWwwownwwnwn www wow wo wo Ww\\n\\n$18.50\\n$19.50\\n$20.50\\n$21.50\\n$22.50\\n$23.50\\n$24.50\\n$15.50\\n$16.50\\n$17.50\\n$18.50\\n$19.50\\n$20.50\\n$21.50\\n$22.50\\n$23.50\\n$24.50\\n$15.50\\n$16.50\\n$17.50\\n$18.50\\n$19.50\\n$20.50\\n$21.50\\n$22.50\\n$23.50\\n$24.50\\n$15.50\\n$16.50\\n$17.50\\n$18.50\\n$19.50\\n$20.50\\n\\n$55.50\\n$58.50\\n$61.50\\n$64.50\\n$67.50\\n$70.50\\n$73.50\\n$46.50\\n$49.50\\n$52.50\\n$55.50\\n$58.50\\n$61.50\\n$64.50\\n$67.50\\n$70.50\\n$73.50\\n$46.50\\n$49.50\\n$52.50\\n$55.50\\n$58.50\\n$61.50\\n$64.50\\n$67.50\\n$70.50\\n$73.50\\n$46.50\\n$49.50\\n$52.50\\n$55.50\\n$58.50\\n$61.50\\n'),\n",
       " PageTextData(page_number=4, filename='Invoice_8', text='Product 96\\n\\nProduct 97\\n\\nProduct 98\\n\\nProduct 99\\n\\nProduct 100\\nProduct 101\\nProduct 102\\nProduct 103\\nProduct 104\\nProduct 105\\nProduct 106\\nProduct 107\\nProduct 108\\nProduct 109\\nProduct 110\\nProduct 111\\nProduct 112\\nProduct 113\\nProduct 114\\nProduct 115\\nProduct 116\\nProduct 117\\nProduct 118\\nProduct 119\\n\\nOWOWWwwWnowWnwwnwwwWwwwndnwwowwnwownwWwownw wow wo Ww\\n\\n$64.50\\n$67.50\\n$70.50\\n$73.50\\n$46.50\\n$49.50\\n$52.50\\n$55.50\\n$58.50\\n$61.50\\n$64.50\\n$67.50\\n$70.50\\n$73.50\\n$46.50\\n$49.50\\n$52.50\\n$55.50\\n$58.50\\n$61.50\\n$64.50\\n$67.50\\n$70.50\\n$73.50\\n\\n$7200.00\\n')]"
      ]
     },
     "execution_count": 5,
     "metadata": {},
     "output_type": "execute_result"
    }
   ],
   "source": [
    "pages"
   ]
  },
  {
   "cell_type": "code",
   "execution_count": 6,
   "id": "a7ea77c9",
   "metadata": {},
   "outputs": [],
   "source": [
    "from langchain_groq import ChatGroq\n",
    "key = os.getenv(\"GROQ_API_KEY\")\n",
    "llm = ChatGroq(model=\"gemma2-9b-it\", groq_api_key=key)"
   ]
  },
  {
   "cell_type": "code",
   "execution_count": 7,
   "id": "365b2887",
   "metadata": {},
   "outputs": [],
   "source": [
    "from typing import List, Dict\n",
    "from pydantic import BaseModel\n",
    "from langchain_google_genai import ChatGoogleGenerativeAI\n",
    "from langchain_core.messages import HumanMessage\n",
    "import os\n",
    "\n",
    "def generate_elaborated_texts(pages: List[PageTextData]) -> List[ElaboratedPageTextData]:\n",
    "    elaborated_pages = []\n",
    "    for page in pages:\n",
    "        prompt = (\n",
    "            \"You are an expert in reading semi-structured invoices.\\n\"\n",
    "            \"Below is the raw OCR text from one page of a PDF invoice.\\n\"\n",
    "            \"Write a clear and complete elaboration of what this invoice page contains in natural language.\\n\\n\"\n",
    "            f\"Page {page.page_number}:\\n{page.text}\"\n",
    "        )\n",
    "        response = llm.invoke([HumanMessage(content=prompt)])\n",
    "        elaborated_pages.append(\n",
    "                ElaboratedPageTextData(\n",
    "                    page_number=page.page_number,\n",
    "                    filename= page.filename,\n",
    "                    text= page.text,\n",
    "                    elaborated_text=response.content.strip()))\n",
    "    return elaborated_pages"
   ]
  },
  {
   "cell_type": "code",
   "execution_count": 8,
   "id": "64e74cfb",
   "metadata": {},
   "outputs": [
    {
     "data": {
      "text/plain": [
       "[ElaboratedPageTextData(page_number=1, filename='Invoice_8', text='DEF Tech Solutions\\n\\nInvoice #: INV-005\\nClient: XYZ Corporation\\nDate: 2025-07-20\\n\\nItem Qty Unit Price Total\\n\\nProduct 0 3 $15.50 $46.50\\nProduct 1 3 $16.50 $49.50\\nProduct 2 3 $17.50 $52.50\\nProduct 3 3 $18.50 $55.50\\nProduct 4 3 $19.50 $58.50\\nProduct 5 3 $20.50 $61.50\\nProduct 6 3 $21.50 $64.50\\nProduct 7 3 $22.50 $67.50\\nProduct 8 3 $23.50 $70.50\\nProduct 9 3 $24.50 $73.50\\nProduct 10 3 $15.50 $46.50\\nProduct 11 3 $16.50 $49.50\\nProduct 12 3 $17.50 $52.50\\nProduct 13 3 $18.50 $55.50\\nProduct 14 3 $19.50 $58.50\\nProduct 15 3 $20.50 $61.50\\nProduct 16 3 $21.50 $64.50\\nProduct 17 3 $22.50 $67.50\\nProduct 18 3 $23.50 $70.50\\nProduct 19 3 $24.50 $73.50\\nProduct 20 3 $15.50 $46.50\\nProduct 21 3 $16.50 $49.50\\nProduct 22 3 $17.50 $52.50\\nProduct 23 3 $18.50 $55.50\\nProduct 24 3 $19.50 $58.50\\nProduct 25 3 $20.50 $61.50\\nProduct 26 3 $21.50 $64.50\\nProduct 27 3 $22.50 $67.50\\nProduct 28 3 $23.50 $70.50\\nProduct 29 3 $24.50 $73.50\\n', elaborated_text=\"This invoice page is from DEF Tech Solutions and is addressed to XYZ Corporation. The invoice number is INV-005 and the date is July 20, 2025. \\n\\nThe page lists a series of products, numbered from 0 to 29, each with the following details:\\n\\n* **Qty:** The quantity of each product is listed as 3.\\n* **Unit Price:** The price of a single unit of each product is listed, ranging from $15.50 to $24.50.\\n* **Total:** The total cost of each product is calculated by multiplying the quantity and the unit price. Each product's total is between $46.50 and $73.50.\\n\\n  It appears that DEF Tech Solutions is selling 3 units of each of these 30 products to XYZ Corporation.\"),\n",
       " ElaboratedPageTextData(page_number=2, filename='Invoice_8', text='Product 30\\nProduct 31\\nProduct 32\\nProduct 33\\nProduct 34\\nProduct 35\\nProduct 36\\nProduct 37\\nProduct 38\\nProduct 39\\nProduct 40\\nProduct 41\\nProduct 42\\nProduct 43\\nProduct 44\\nProduct 45\\nProduct 46\\nProduct 47\\nProduct 48\\nProduct 49\\nProduct 50\\nProduct 51\\nProduct 52\\nProduct 53\\nProduct 54\\nProduct 55\\nProduct 56\\nProduct 57\\nProduct 58\\nProduct 59\\nProduct 60\\nProduct 61\\nProduct 62\\n\\nOW wWowwwnwwwnwwnwwowwWdwwnwnwowwWdwWwwownwwnwn www wow wo wo Ww\\n\\n$15.50\\n$16.50\\n$17.50\\n$18.50\\n$19.50\\n$20.50\\n$21.50\\n$22.50\\n$23.50\\n$24.50\\n$15.50\\n$16.50\\n$17.50\\n$18.50\\n$19.50\\n$20.50\\n$21.50\\n$22.50\\n$23.50\\n$24.50\\n$15.50\\n$16.50\\n$17.50\\n$18.50\\n$19.50\\n$20.50\\n$21.50\\n$22.50\\n$23.50\\n$24.50\\n$15.50\\n$16.50\\n$17.50\\n\\n$46.50\\n$49.50\\n$52.50\\n$55.50\\n$58.50\\n$61.50\\n$64.50\\n$67.50\\n$70.50\\n$73.50\\n$46.50\\n$49.50\\n$52.50\\n$55.50\\n$58.50\\n$61.50\\n$64.50\\n$67.50\\n$70.50\\n$73.50\\n$46.50\\n$49.50\\n$52.50\\n$55.50\\n$58.50\\n$61.50\\n$64.50\\n$67.50\\n$70.50\\n$73.50\\n$46.50\\n$49.50\\n$52.50\\n', elaborated_text='This invoice page lists a series of products numbered from 30 to 62. \\n\\nEach product has a corresponding price listed below it.  \\n\\nThe prices appear to follow a pattern:\\n\\n* **First Group:** Products 30-60 have individual prices starting at $15.50 and incrementing by $1.00. \\n* **Second Group:** Products 61-62 have individual prices starting at $46.50 and incrementing by $3.00.\\n\\nThere is a section of seemingly random characters between the product lists and the second price group. This might be an error in the OCR process or a formatting quirk.  \\n\\n\\nThe invoice page lacks information like an invoice number, company name, or date, making it incomplete.'),\n",
       " ElaboratedPageTextData(page_number=3, filename='Invoice_8', text='Product 63\\nProduct 64\\nProduct 65\\nProduct 66\\nProduct 67\\nProduct 68\\nProduct 69\\nProduct 70\\nProduct 71\\nProduct 72\\nProduct 73\\nProduct 74\\nProduct 75\\nProduct 76\\nProduct 77\\nProduct 78\\nProduct 79\\nProduct 80\\nProduct 81\\nProduct 82\\nProduct 83\\nProduct 84\\nProduct 85\\nProduct 86\\nProduct 87\\nProduct 88\\nProduct 89\\nProduct 90\\nProduct 91\\nProduct 92\\nProduct 93\\nProduct 94\\nProduct 95\\n\\nOW wWowwwnwwwnwwnwwowwWdwwnwnwowwWdwWwwownwwnwn www wow wo wo Ww\\n\\n$18.50\\n$19.50\\n$20.50\\n$21.50\\n$22.50\\n$23.50\\n$24.50\\n$15.50\\n$16.50\\n$17.50\\n$18.50\\n$19.50\\n$20.50\\n$21.50\\n$22.50\\n$23.50\\n$24.50\\n$15.50\\n$16.50\\n$17.50\\n$18.50\\n$19.50\\n$20.50\\n$21.50\\n$22.50\\n$23.50\\n$24.50\\n$15.50\\n$16.50\\n$17.50\\n$18.50\\n$19.50\\n$20.50\\n\\n$55.50\\n$58.50\\n$61.50\\n$64.50\\n$67.50\\n$70.50\\n$73.50\\n$46.50\\n$49.50\\n$52.50\\n$55.50\\n$58.50\\n$61.50\\n$64.50\\n$67.50\\n$70.50\\n$73.50\\n$46.50\\n$49.50\\n$52.50\\n$55.50\\n$58.50\\n$61.50\\n$64.50\\n$67.50\\n$70.50\\n$73.50\\n$46.50\\n$49.50\\n$52.50\\n$55.50\\n$58.50\\n$61.50\\n', elaborated_text='This invoice page lists a series of products, numbered from 63 to 95.\\n\\nFor each product, there are two prices listed:\\n\\n* **First Price:** This price appears to be a unit price, ranging from $15.50 to $24.50.  It\\'s possible this represents the cost of a single item of that product.\\n* **Second Price:** This price appears to be a total price for a quantity of that product, ranging from $46.50 to $73.50. \\n\\nThe page also includes some seemingly random characters  (\"OW wWowwwnwwwnwwnwwowwWdwwnwnwowwWdwWwwownwwnwn www wow wo wo Ww\"). This is likely an OCR error and should be ignored. \\n\\n\\nWithout further context, it\\'s difficult to determine the exact nature of the products or the meaning of the prices.'),\n",
       " ElaboratedPageTextData(page_number=4, filename='Invoice_8', text='Product 96\\n\\nProduct 97\\n\\nProduct 98\\n\\nProduct 99\\n\\nProduct 100\\nProduct 101\\nProduct 102\\nProduct 103\\nProduct 104\\nProduct 105\\nProduct 106\\nProduct 107\\nProduct 108\\nProduct 109\\nProduct 110\\nProduct 111\\nProduct 112\\nProduct 113\\nProduct 114\\nProduct 115\\nProduct 116\\nProduct 117\\nProduct 118\\nProduct 119\\n\\nOWOWWwwWnowWnwwnwwwWwwwndnwwowwnwownwWwownw wow wo Ww\\n\\n$64.50\\n$67.50\\n$70.50\\n$73.50\\n$46.50\\n$49.50\\n$52.50\\n$55.50\\n$58.50\\n$61.50\\n$64.50\\n$67.50\\n$70.50\\n$73.50\\n$46.50\\n$49.50\\n$52.50\\n$55.50\\n$58.50\\n$61.50\\n$64.50\\n$67.50\\n$70.50\\n$73.50\\n\\n$7200.00\\n', elaborated_text='This invoice page lists a series of products, numbered from 96 to 119. \\n\\nEach product is represented by its unique number on a separate line. Below each product number is its corresponding price.\\n\\nThe prices appear to follow a pattern, with a gradual increase for products numbered 96 to 119, followed by a similar pattern for products numbered 100 to 119. \\n\\nThere\\'s an additional line with the total amount of \"$7200.00\", which likely represents the total value of the listed products.\\n\\nThe gibberish text \"OWOWWwwWnowWnwwnwwwWwwwndnwwowwnwownwWwownw wow wo Ww\" seems to be an OCR error and doesn\\'t hold any meaningful information.')]"
      ]
     },
     "execution_count": 8,
     "metadata": {},
     "output_type": "execute_result"
    }
   ],
   "source": [
    "d= generate_elaborated_texts(pages= pages)\n",
    "d"
   ]
  },
  {
   "cell_type": "code",
   "execution_count": 9,
   "id": "54b56cf4",
   "metadata": {},
   "outputs": [],
   "source": [
    "import json\n",
    "\n",
    "def map_invoice_pages(elaborated_pages: List[ElaboratedPageTextData]) -> Dict[str, List[int]]:\n",
    "    # Prepare LLM input by formatting all pages\n",
    "    formatted = \"\\n\\n\".join([f\"Page {i+1}:\\n{txt}\" for i, txt in enumerate(elaborated_pages)])\n",
    "    \n",
    "    system_prompt = (\"\"\"\n",
    "        You are a document analysis assistant.\n",
    "        You will be given a list of pages (with their page numbers) that may contain one or more invoice documents.\\n\"\n",
    "        Your task is to identify which pages belong to the same invoice by recognizing invoice numbers and group them.\\n\\n\"\n",
    "        Return ONLY a valid JSON in the following format.\n",
    "        like \"{\"invoice number\\\": [page numbers in int under invoice number]}\n",
    "        for E.g.,\n",
    "        \"{\"INV-003\": [2]} or\n",
    "        \"{\"INV-005\": [4,5]} or \n",
    "        \"{\"344256\": [1,2,3,4]}\"\n",
    "        json should contain have invoice number as key and list of page number belonging to that invoice  \n",
    "    \"\"\")\n",
    "\n",
    "    user_prompt = (\n",
    "        \"Here are the elaborated texts for all pages:\\n\\n\"\n",
    "        f\"{formatted}\\n\\n\"\n",
    "        \"Now identify and group the pages by invoice number.\"\n",
    "    )\n",
    "\n",
    "    response = llm.invoke([\n",
    "        HumanMessage(content=system_prompt),\n",
    "        HumanMessage(content=user_prompt)\n",
    "    ])\n",
    "\n",
    "    # Parse and return the JSON result\n",
    "    try:\n",
    "        raw_content = response.content.strip()\n",
    "        clean_response = clean_llm_json(raw_content)\n",
    "\n",
    "        invoice_map = json.loads(clean_response)\n",
    "        return invoice_map\n",
    "    except json.JSONDecodeError:\n",
    "        print(\"LLM response was not valid JSON:\\n\", response.content)\n",
    "        return {}\n",
    "\n",
    "def clean_llm_json(text: str) -> str:\n",
    "        \"\"\"\n",
    "        Cleans the LLM response to extract only the JSON content.\n",
    "\n",
    "        :param text: Raw LLM output, possibly wrapped in ```json ... ```\n",
    "        :return: Cleaned JSON string\n",
    "        \"\"\"\n",
    "        if text.startswith(\"```json\"):\n",
    "            text = text.replace(\"```json\", \"\").strip()\n",
    "        if text.startswith(\"```\"):\n",
    "            text = text.replace(\"```\", \"\").strip()\n",
    "        if text.endswith(\"```\"):\n",
    "            text = text[:-3].strip()\n",
    "        return text\n"
   ]
  },
  {
   "cell_type": "code",
   "execution_count": 10,
   "id": "9a8a986c",
   "metadata": {},
   "outputs": [
    {
     "data": {
      "text/plain": [
       "{'INV-005': [1, 2, 3, 4]}"
      ]
     },
     "execution_count": 10,
     "metadata": {},
     "output_type": "execute_result"
    }
   ],
   "source": [
    "a = map_invoice_pages(d)\n",
    "a"
   ]
  },
  {
   "cell_type": "code",
   "execution_count": null,
   "id": "cb5e70f8",
   "metadata": {},
   "outputs": [],
   "source": []
  },
  {
   "cell_type": "code",
   "execution_count": 11,
   "id": "168010b5",
   "metadata": {},
   "outputs": [],
   "source": [
    "import yaml\n",
    "from typing import Dict, List\n",
    "\n",
    "def save_invoices_to_yaml_txt(\n",
    "    invoice_map: Dict[str, List[int]],\n",
    "    elaborated_pages: List[ElaboratedPageTextData],\n",
    "    output_path: str = './output/'\n",
    "):\n",
    "     # Ensure the output directory exists\n",
    "    os.makedirs(output_path, exist_ok=True)\n",
    "\n",
    "    # Construct the dictionary to dump to YAML\n",
    "    yaml_data = {}\n",
    "\n",
    "    for invoice_number, page_indices in invoice_map.items():\n",
    "        # Combine only raw_text from mapped pages (1-based to 0-based)\n",
    "        combined_text = \"\\n\\n\".join([\n",
    "            elaborated_pages[i - 1].text\n",
    "            for i in page_indices\n",
    "            if 0 <= i - 1 < len(elaborated_pages)\n",
    "        ])\n",
    "        \n",
    "        yaml_data = {\n",
    "            \"invoice_number\": invoice_number,\n",
    "            \"content\": combined_text\n",
    "        }\n",
    "        # Dump to YAML string\n",
    "        yaml_string = yaml.dump(yaml_data, sort_keys=False, allow_unicode=True)\n",
    "\n",
    "        # Write YAML string to .txt file\n",
    "        file_path = os.path.join(output_path, f\"{invoice_number}.txt\")\n",
    "        with open(file_path, \"w\", encoding=\"utf-8\") as f:\n",
    "            f.write(yaml_string)\n",
    "\n",
    "        print(f\"✅ YAML saved to {output_path}\")\n"
   ]
  },
  {
   "cell_type": "code",
   "execution_count": 12,
   "id": "49e914b0",
   "metadata": {},
   "outputs": [
    {
     "name": "stdout",
     "output_type": "stream",
     "text": [
      "✅ YAML saved to ./output/\n"
     ]
    }
   ],
   "source": [
    "save_invoices_to_yaml_txt(a,d)"
   ]
  },
  {
   "cell_type": "code",
   "execution_count": 24,
   "id": "87c73477",
   "metadata": {},
   "outputs": [
    {
     "name": "stdout",
     "output_type": "stream",
     "text": [
      "INV-001 2\n"
     ]
    }
   ],
   "source": [
    "for invoice_number, page_indices in a.items():\n",
    "    print(invoice_number, page_number)"
   ]
  },
  {
   "cell_type": "code",
   "execution_count": null,
   "id": "89dc699c",
   "metadata": {},
   "outputs": [],
   "source": []
  }
 ],
 "metadata": {
  "kernelspec": {
   "display_name": "Python 3",
   "language": "python",
   "name": "python3"
  },
  "language_info": {
   "codemirror_mode": {
    "name": "ipython",
    "version": 3
   },
   "file_extension": ".py",
   "mimetype": "text/x-python",
   "name": "python",
   "nbconvert_exporter": "python",
   "pygments_lexer": "ipython3",
   "version": "3.11.0"
  }
 },
 "nbformat": 4,
 "nbformat_minor": 5
}
